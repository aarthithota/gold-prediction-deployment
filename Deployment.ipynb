{
  "nbformat": 4,
  "nbformat_minor": 0,
  "metadata": {
    "colab": {
      "provenance": [],
      "mount_file_id": "1YZk3alRKsIINZg49EOZPKnIKTnbKaB1b",
      "authorship_tag": "ABX9TyOLLJ48rZiJ0MwVYvIolXvG",
      "include_colab_link": true
    },
    "kernelspec": {
      "name": "python3",
      "display_name": "Python 3"
    },
    "language_info": {
      "name": "python"
    }
  },
  "cells": [
    {
      "cell_type": "markdown",
      "metadata": {
        "id": "view-in-github",
        "colab_type": "text"
      },
      "source": [
        "<a href=\"https://colab.research.google.com/github/aarthithota/gold-prediction-deployment/blob/main/Deployment.ipynb\" target=\"_parent\"><img src=\"https://colab.research.google.com/assets/colab-badge.svg\" alt=\"Open In Colab\"/></a>"
      ]
    },
    {
      "cell_type": "code",
      "execution_count": null,
      "metadata": {
        "id": "Mv9XCZZ5MkQO"
      },
      "outputs": [],
      "source": [
        "import numpy as np\n",
        "import pandas as pd\n",
        "import pickle"
      ]
    },
    {
      "cell_type": "code",
      "source": [
        "model = pickle.load(open('/content/model.pkl', 'rb'))\n",
        "column_name=pickle.load(open('/content/list_of_columns.pkl', 'rb'))\n",
        "print(column_name)\n"
      ],
      "metadata": {
        "id": "u8r0R6BfRys6",
        "colab": {
          "base_uri": "https://localhost:8080/"
        },
        "outputId": "cc6c7b1a-ce7c-4953-bdfc-e617408a8098"
      },
      "execution_count": null,
      "outputs": [
        {
          "output_type": "stream",
          "name": "stdout",
          "text": [
            "           Date          SPX         GLD        USO      SLV   EUR/USD\n",
            "0      1/2/2008  1447.160034   84.860001  78.470001  15.1800  1.471692\n",
            "1      1/3/2008  1447.160034   85.570000  78.370003  15.2850  1.474491\n",
            "2      1/4/2008  1411.630005   85.129997  77.309998  15.1670  1.475492\n",
            "3      1/7/2008  1416.180054   84.769997  75.500000  15.0530  1.468299\n",
            "4      1/8/2008  1390.189941   86.779999  76.059998  15.5900  1.557099\n",
            "...         ...          ...         ...        ...      ...       ...\n",
            "2285   5/8/2018  2671.919922  124.589996  14.060000  15.5100  1.186789\n",
            "2286   5/9/2018  2697.790039  124.330002  14.370000  15.5300  1.184722\n",
            "2287  5/10/2018  2723.070068  125.180000  14.410000  15.7400  1.191753\n",
            "2288  5/14/2018  2730.129883  124.489998  14.380000  15.5600  1.193118\n",
            "2289  5/16/2018  2725.780029  122.543800  14.405800  15.4542  1.182033\n",
            "\n",
            "[2217 rows x 6 columns]\n"
          ]
        }
      ]
    },
    {
      "cell_type": "code",
      "source": [
        "input_data=column_name\n",
        "input_data.drop(['GLD'], axis='columns', inplace=True)\n",
        "input_data.drop(['Date'], axis='columns', inplace=True)\n",
        "input_data.at[0, 'SPX'] = float(input('enter SPX'))\n",
        "input_data.at[0, 'USO'] = float(input('enter USO'))\n",
        "input_data.at[0, 'SLV'] = float(input('enter SLV'))\n",
        "input_data.at[0, 'EUR/USD'] = float(input('enter EUR/USD'))\n",
        "gold_price = model.predict(input_data[:1])\n",
        "print('gold_price',gold_price)"
      ],
      "metadata": {
        "colab": {
          "base_uri": "https://localhost:8080/"
        },
        "id": "5qJmj6JJM3Uy",
        "outputId": "78596061-28ad-47aa-b815-270362644cef"
      },
      "execution_count": null,
      "outputs": [
        {
          "output_type": "stream",
          "name": "stdout",
          "text": [
            "enter SPX542365.36\n",
            "enter USO2563.369\n",
            "enter SLV25693.36\n",
            "enter EUR/USD2563.36\n",
            "gold_price [150.08900005]\n"
          ]
        }
      ]
    }
  ]
}